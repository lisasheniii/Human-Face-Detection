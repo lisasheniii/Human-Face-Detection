{
 "cells": [
  {
   "cell_type": "code",
   "execution_count": 1,
   "metadata": {},
   "outputs": [],
   "source": [
    "logisticRegre.fit(X_train, y_train)#import the neccesary packages\n",
    "import numpy as np\n",
    "import pandas as pd\n",
    "from sklearn.model_selection import train_test_split #cross_validation\n",
    "from sklearn.tree import DecisionTreeClassifier\n",
    "from sklearn.metrics import accuracy_score\n",
    "from sklearn import tree\n",
    "\n",
    "#loading data file\n",
    "fullFileName= \"/Users/WanYi/Desktop/0809/實驗數據/Lisa_Video2_Surfing1.csv\"\n",
    "balance_data=pd.read_csv(fullFileName,sep=',',header=0)"
   ]
  },
  {
   "cell_type": "code",
   "execution_count": 2,
   "metadata": {},
   "outputs": [
    {
     "name": "stdout",
     "output_type": "stream",
     "text": [
      "Dataset Length::  8475\n",
      "Dataset Shape::        IMG_Diff    STD   EAR  MOUTH    Label\n",
      "0     591310.0   1.98  0.26   1.28    Video\n",
      "1     516537.0   2.24  0.26   1.14    Video\n",
      "2     540672.0   1.91  0.26   1.41    Video\n",
      "3     528451.0   3.55  0.26   0.67    Video\n",
      "4     581999.0   2.98  0.23   1.28    Video\n",
      "5     523678.0   2.29  0.17   1.47    Video\n",
      "6     549958.0   2.14  0.18   1.00    Video\n",
      "7     524015.0   1.59  0.18   0.00    Video\n",
      "8     546614.0   1.50  0.16   0.33    Video\n",
      "9     537524.0   2.09  0.17   0.33    Video\n",
      "10    567020.0   2.85  0.15   0.67    Video\n",
      "11    473832.0   1.69  0.14   1.00    Video\n",
      "12    535038.0   1.65  0.13   0.67    Video\n",
      "13    503965.0   1.30  0.16   0.33    Video\n",
      "14    548252.0   1.58  0.17   0.80    Video\n",
      "15    530866.0   1.89  0.17   0.80    Video\n",
      "16    539316.0   1.90  0.15   0.33    Video\n",
      "17    547100.0   4.96  0.16   2.00    Video\n",
      "18    581340.0   5.71  0.16   5.33    Video\n",
      "19    651701.0   5.93  0.14   6.38    Video\n",
      "20    636382.0   4.49  0.22   7.33    Video\n",
      "21    561228.0   3.62  0.25   8.06    Video\n",
      "22    595077.0   2.73  0.25   7.07    Video\n",
      "23    513747.0   3.73  0.26   7.71    Video\n",
      "24    575687.0   2.28  0.27   7.38    Video\n",
      "25    516094.0   2.84  0.26   7.69    Video\n",
      "26    582476.0   5.02  0.30   7.05    Video\n",
      "27    650497.0   9.42  0.26   6.39    Video\n",
      "28    689653.0  14.18  0.28   7.35    Video\n",
      "29    671216.0  15.41  0.23   7.02    Video\n",
      "...        ...    ...   ...    ...      ...\n",
      "8445  555416.0  10.72  0.19   3.11  Surfing\n",
      "8446  621901.0  13.51  0.16   7.46  Surfing\n",
      "8447  658719.0  15.01  0.17   4.67  Surfing\n",
      "8448  623512.0  12.87  0.18   2.75  Surfing\n",
      "8449  630891.0  11.20  0.14   3.71  Surfing\n",
      "8450  573491.0  10.92  0.16   5.03  Surfing\n",
      "8451  661065.0  27.55  0.12   4.03  Surfing\n",
      "8452  678061.0  34.53  0.12   6.33  Surfing\n",
      "8453  682488.0  40.62  0.15   6.69  Surfing\n",
      "8454  625061.0  11.35  0.12   4.04  Surfing\n",
      "8455  648835.0  11.09  0.16   7.05  Surfing\n",
      "8456  580662.0   9.42  0.17   5.06  Surfing\n",
      "8457  580270.0   7.64  0.17   6.72  Surfing\n",
      "8458  565230.0   8.86  0.13   7.71  Surfing\n",
      "8459  570886.0   8.36  0.16   6.74  Surfing\n",
      "8460  539055.0  10.21  0.19   5.72  Surfing\n",
      "8461  575220.0  12.93  0.15   5.37  Surfing\n",
      "8462  522970.0   9.88  0.17   4.73  Surfing\n",
      "8463  582418.0   9.34  0.16   4.37  Surfing\n",
      "8464  612175.0  11.58  0.16   2.67  Surfing\n",
      "8465  616770.0  10.05  0.16   3.76  Surfing\n",
      "8466  545193.0   9.42  0.15   2.41  Surfing\n",
      "8467  556222.0   4.37  0.16   2.00  Surfing\n",
      "8468  513416.0   5.81  0.17   1.75  Surfing\n",
      "8469  558284.0   9.28  0.18   2.67  Surfing\n",
      "8470  478293.0   6.46  0.20   3.29  Surfing\n",
      "8471  535088.0   6.22  0.22   3.46  Surfing\n",
      "8472  504992.0   5.84  0.20   3.81  Surfing\n",
      "8473  492548.0   2.76  0.17   1.96  Surfing\n",
      "8474  594989.0  14.14  0.20   3.48  Surfing\n",
      "\n",
      "[8475 rows x 5 columns]\n"
     ]
    }
   ],
   "source": [
    "print(\"Dataset Length:: \", len(balance_data) )\n",
    "print(\"Dataset Shape:: \", balance_data)"
   ]
  },
  {
   "cell_type": "code",
   "execution_count": 3,
   "metadata": {},
   "outputs": [
    {
     "name": "stdout",
     "output_type": "stream",
     "text": [
      "Dataset:: \n"
     ]
    },
    {
     "data": {
      "text/html": [
       "<div>\n",
       "<style scoped>\n",
       "    .dataframe tbody tr th:only-of-type {\n",
       "        vertical-align: middle;\n",
       "    }\n",
       "\n",
       "    .dataframe tbody tr th {\n",
       "        vertical-align: top;\n",
       "    }\n",
       "\n",
       "    .dataframe thead th {\n",
       "        text-align: right;\n",
       "    }\n",
       "</style>\n",
       "<table border=\"1\" class=\"dataframe\">\n",
       "  <thead>\n",
       "    <tr style=\"text-align: right;\">\n",
       "      <th></th>\n",
       "      <th>IMG_Diff</th>\n",
       "      <th>STD</th>\n",
       "      <th>EAR</th>\n",
       "      <th>MOUTH</th>\n",
       "      <th>Label</th>\n",
       "    </tr>\n",
       "  </thead>\n",
       "  <tbody>\n",
       "    <tr>\n",
       "      <th>0</th>\n",
       "      <td>591310.0</td>\n",
       "      <td>1.98</td>\n",
       "      <td>0.26</td>\n",
       "      <td>1.28</td>\n",
       "      <td>Video</td>\n",
       "    </tr>\n",
       "    <tr>\n",
       "      <th>1</th>\n",
       "      <td>516537.0</td>\n",
       "      <td>2.24</td>\n",
       "      <td>0.26</td>\n",
       "      <td>1.14</td>\n",
       "      <td>Video</td>\n",
       "    </tr>\n",
       "    <tr>\n",
       "      <th>2</th>\n",
       "      <td>540672.0</td>\n",
       "      <td>1.91</td>\n",
       "      <td>0.26</td>\n",
       "      <td>1.41</td>\n",
       "      <td>Video</td>\n",
       "    </tr>\n",
       "    <tr>\n",
       "      <th>3</th>\n",
       "      <td>528451.0</td>\n",
       "      <td>3.55</td>\n",
       "      <td>0.26</td>\n",
       "      <td>0.67</td>\n",
       "      <td>Video</td>\n",
       "    </tr>\n",
       "    <tr>\n",
       "      <th>4</th>\n",
       "      <td>581999.0</td>\n",
       "      <td>2.98</td>\n",
       "      <td>0.23</td>\n",
       "      <td>1.28</td>\n",
       "      <td>Video</td>\n",
       "    </tr>\n",
       "  </tbody>\n",
       "</table>\n",
       "</div>"
      ],
      "text/plain": [
       "   IMG_Diff   STD   EAR  MOUTH  Label\n",
       "0  591310.0  1.98  0.26   1.28  Video\n",
       "1  516537.0  2.24  0.26   1.14  Video\n",
       "2  540672.0  1.91  0.26   1.41  Video\n",
       "3  528451.0  3.55  0.26   0.67  Video\n",
       "4  581999.0  2.98  0.23   1.28  Video"
      ]
     },
     "execution_count": 3,
     "metadata": {},
     "output_type": "execute_result"
    }
   ],
   "source": [
    "print(\"Dataset:: \")\n",
    "balance_data.head()"
   ]
  },
  {
   "cell_type": "code",
   "execution_count": 4,
   "metadata": {},
   "outputs": [
    {
     "data": {
      "text/plain": [
       "DecisionTreeClassifier(class_weight=None, criterion='entropy', max_depth=8,\n",
       "            max_features=None, max_leaf_nodes=None,\n",
       "            min_impurity_decrease=0.0, min_impurity_split=None,\n",
       "            min_samples_leaf=6, min_samples_split=2,\n",
       "            min_weight_fraction_leaf=0.0, presort=False, random_state=100,\n",
       "            splitter='best')"
      ]
     },
     "execution_count": 4,
     "metadata": {},
     "output_type": "execute_result"
    }
   ],
   "source": [
    "#Sepearating the Target variable\n",
    "X = balance_data.values[:, 0:4] #column no.0~3 -->column 1~4\n",
    "Y = balance_data.values[:,4] #column no.4 -->column 5\n",
    "#Spliting DatasetI ntoTest and Train\n",
    "X_train, X_test, Y_train, Y_test = train_test_split(X,Y,test_size = 0.3, random_state = 100)\n",
    "#Function to perform training with Entropy\n",
    "clf_entropy = DecisionTreeClassifier(criterion = \"entropy\", random_state = 100, max_depth=8, min_samples_leaf=6)\n",
    "clf_entropy.fit(X_train, Y_train)"
   ]
  },
  {
   "cell_type": "code",
   "execution_count": 5,
   "metadata": {},
   "outputs": [],
   "source": [
    "from sklearn.linear_model import LogisticRegression\n",
    "\n",
    "logisticRegre = LogisticRegression()"
   ]
  },
  {
   "cell_type": "code",
   "execution_count": 7,
   "metadata": {
    "scrolled": true
   },
   "outputs": [
    {
     "data": {
      "text/plain": [
       "LogisticRegression(C=1.0, class_weight=None, dual=False, fit_intercept=True,\n",
       "          intercept_scaling=1, max_iter=100, multi_class='ovr', n_jobs=1,\n",
       "          penalty='l2', random_state=None, solver='liblinear', tol=0.0001,\n",
       "          verbose=0, warm_start=False)"
      ]
     },
     "execution_count": 7,
     "metadata": {},
     "output_type": "execute_result"
    }
   ],
   "source": [
    "logisticRegre.fit(X_train, Y_train)"
   ]
  },
  {
   "cell_type": "code",
   "execution_count": 12,
   "metadata": {
    "scrolled": true
   },
   "outputs": [
    {
     "name": "stdout",
     "output_type": "stream",
     "text": [
      "['Surfing']\n"
     ]
    }
   ],
   "source": [
    "print(logisticRegre.predict(X_test[0].reshape(1,-1)))"
   ]
  },
  {
   "cell_type": "code",
   "execution_count": 13,
   "metadata": {},
   "outputs": [
    {
     "data": {
      "text/plain": [
       "array(['Surfing', 'Surfing', 'Video', 'Video', 'Video', 'Surfing',\n",
       "       'Video', 'Video', 'Video', 'Video'], dtype=object)"
      ]
     },
     "execution_count": 13,
     "metadata": {},
     "output_type": "execute_result"
    }
   ],
   "source": [
    "logisticRegre.predict(X_test[0:10])"
   ]
  },
  {
   "cell_type": "code",
   "execution_count": 14,
   "metadata": {},
   "outputs": [],
   "source": [
    "predictions = logisticRegre.predict(X_test)"
   ]
  },
  {
   "cell_type": "code",
   "execution_count": 16,
   "metadata": {},
   "outputs": [
    {
     "name": "stdout",
     "output_type": "stream",
     "text": [
      "0.6940621313409359\n"
     ]
    }
   ],
   "source": [
    "score = logisticRegre.score(X_test, Y_test)\n",
    "print(score)"
   ]
  },
  {
   "cell_type": "code",
   "execution_count": 19,
   "metadata": {},
   "outputs": [],
   "source": [
    "import matplotlib.pyplot as plt\n",
    "import seaborn as sns\n",
    "from sklearn import metrics"
   ]
  },
  {
   "cell_type": "code",
   "execution_count": 20,
   "metadata": {},
   "outputs": [
    {
     "name": "stdout",
     "output_type": "stream",
     "text": [
      "[[ 646  617]\n",
      " [ 161 1119]]\n"
     ]
    }
   ],
   "source": [
    "cm = metrics.confusion_matrix(Y_test, predictions)\n",
    "print(cm)"
   ]
  },
  {
   "cell_type": "code",
   "execution_count": 23,
   "metadata": {},
   "outputs": [
    {
     "data": {
      "image/png": "[encoded data removed]",
      "text/plain": [
       "<Figure size 648x648 with 2 Axes>"
      ]
     },
     "metadata": {},
     "output_type": "display_data"
    }
   ],
   "source": [
    "plt.figure(figsize=(9,9))\n",
    "sns.heatmap(cm, annot = True, fmt=\".3f\", linewidths= .5, square = True, cmap='Blues_r');       \n",
    "plt.ylabel('Actual label');\n",
    "plt.xlabel('Predicted label');\n",
    "all_sample_title = 'Accuracy Score: {0}'.format(score)\n",
    "plt.title(all_sample_title, size = 15);"
   ]
  }
 ],
 "metadata": {
  "kernelspec": {
   "display_name": "Python 3",
   "language": "python",
   "name": "python3"
  },
  "language_info": {
   "codemirror_mode": {
    "name": "ipython",
    "version": 3
   },
   "file_extension": ".py",
   "mimetype": "text/x-python",
   "name": "python",
   "nbconvert_exporter": "python",
   "pygments_lexer": "ipython3",
   "version": "3.5.5"
  }
 },
 "nbformat": 4,
 "nbformat_minor": 2
}
